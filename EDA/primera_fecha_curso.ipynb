{
 "cells": [
  {
   "cell_type": "code",
   "execution_count": 1,
   "metadata": {},
   "outputs": [],
   "source": [
    "import pandas as pd"
   ]
  },
  {
   "cell_type": "code",
   "execution_count": 3,
   "metadata": {},
   "outputs": [
    {
     "name": "stdout",
     "output_type": "stream",
     "text": [
      "(466327, 8)\n"
     ]
    },
    {
     "data": {
      "text/html": [
       "<div>\n",
       "<style scoped>\n",
       "    .dataframe tbody tr th:only-of-type {\n",
       "        vertical-align: middle;\n",
       "    }\n",
       "\n",
       "    .dataframe tbody tr th {\n",
       "        vertical-align: top;\n",
       "    }\n",
       "\n",
       "    .dataframe thead th {\n",
       "        text-align: right;\n",
       "    }\n",
       "</style>\n",
       "<table border=\"1\" class=\"dataframe\">\n",
       "  <thead>\n",
       "    <tr style=\"text-align: right;\">\n",
       "      <th></th>\n",
       "      <th>User ID</th>\n",
       "      <th>Order Date</th>\n",
       "      <th>Product</th>\n",
       "      <th>Course</th>\n",
       "      <th>Category</th>\n",
       "      <th>CR</th>\n",
       "      <th>H</th>\n",
       "      <th>Current Value</th>\n",
       "    </tr>\n",
       "  </thead>\n",
       "  <tbody>\n",
       "    <tr>\n",
       "      <th>0</th>\n",
       "      <td>1150817</td>\n",
       "      <td>2017-03-02</td>\n",
       "      <td>Soporte Vital Avanzado (En Proceso De Sustituc...</td>\n",
       "      <td>Soporte Vital Avanzado</td>\n",
       "      <td>Enfermería Básica</td>\n",
       "      <td>9.0</td>\n",
       "      <td>70.0</td>\n",
       "      <td>5.0</td>\n",
       "    </tr>\n",
       "    <tr>\n",
       "      <th>1</th>\n",
       "      <td>1255116</td>\n",
       "      <td>2017-03-22</td>\n",
       "      <td>Soporte Vital Avanzado (En Proceso De Sustituc...</td>\n",
       "      <td>Soporte Vital Avanzado</td>\n",
       "      <td>Enfermería Básica</td>\n",
       "      <td>9.0</td>\n",
       "      <td>70.0</td>\n",
       "      <td>0.0</td>\n",
       "    </tr>\n",
       "    <tr>\n",
       "      <th>26</th>\n",
       "      <td>1281438</td>\n",
       "      <td>2017-03-27</td>\n",
       "      <td>Soporte Vital Avanzado (En Proceso De Sustituc...</td>\n",
       "      <td>Soporte Vital Avanzado</td>\n",
       "      <td>Enfermería Básica</td>\n",
       "      <td>9.0</td>\n",
       "      <td>70.0</td>\n",
       "      <td>5.0</td>\n",
       "    </tr>\n",
       "    <tr>\n",
       "      <th>27</th>\n",
       "      <td>1280164</td>\n",
       "      <td>2017-03-27</td>\n",
       "      <td>Soporte Vital Avanzado (En Proceso De Sustituc...</td>\n",
       "      <td>Soporte Vital Avanzado</td>\n",
       "      <td>Enfermería Básica</td>\n",
       "      <td>9.0</td>\n",
       "      <td>70.0</td>\n",
       "      <td>5.0</td>\n",
       "    </tr>\n",
       "    <tr>\n",
       "      <th>28</th>\n",
       "      <td>1281038</td>\n",
       "      <td>2017-03-27</td>\n",
       "      <td>Soporte Vital Avanzado (En Proceso De Sustituc...</td>\n",
       "      <td>Soporte Vital Avanzado</td>\n",
       "      <td>Enfermería Básica</td>\n",
       "      <td>9.0</td>\n",
       "      <td>70.0</td>\n",
       "      <td>5.0</td>\n",
       "    </tr>\n",
       "  </tbody>\n",
       "</table>\n",
       "</div>"
      ],
      "text/plain": [
       "    User ID  Order Date                                            Product  \\\n",
       "0   1150817  2017-03-02  Soporte Vital Avanzado (En Proceso De Sustituc...   \n",
       "1   1255116  2017-03-22  Soporte Vital Avanzado (En Proceso De Sustituc...   \n",
       "26  1281438  2017-03-27  Soporte Vital Avanzado (En Proceso De Sustituc...   \n",
       "27  1280164  2017-03-27  Soporte Vital Avanzado (En Proceso De Sustituc...   \n",
       "28  1281038  2017-03-27  Soporte Vital Avanzado (En Proceso De Sustituc...   \n",
       "\n",
       "                    Course           Category   CR     H  Current Value  \n",
       "0   Soporte Vital Avanzado  Enfermería Básica  9.0  70.0            5.0  \n",
       "1   Soporte Vital Avanzado  Enfermería Básica  9.0  70.0            0.0  \n",
       "26  Soporte Vital Avanzado  Enfermería Básica  9.0  70.0            5.0  \n",
       "27  Soporte Vital Avanzado  Enfermería Básica  9.0  70.0            5.0  \n",
       "28  Soporte Vital Avanzado  Enfermería Básica  9.0  70.0            5.0  "
      ]
     },
     "execution_count": 3,
     "metadata": {},
     "output_type": "execute_result"
    }
   ],
   "source": [
    "data_raw = pd.read_csv('../data/preprocessed/preprocessed_data.csv', index_col=0)\n",
    "\n",
    "data_copy = data_raw[data_raw['Course']!='Pack']\n",
    "data_copy = data_copy.sort_values(by='Order Date', ascending=True)\n",
    "print(data_copy.shape)\n",
    "data_copy.head()"
   ]
  },
  {
   "cell_type": "markdown",
   "metadata": {},
   "source": [
    "<br>\n",
    "\n",
    "# Obtener la primera fecha de cada curso"
   ]
  },
  {
   "cell_type": "code",
   "execution_count": 5,
   "metadata": {},
   "outputs": [
    {
     "name": "stdout",
     "output_type": "stream",
     "text": [
      "Número de cursos: 51\n"
     ]
    },
    {
     "data": {
      "text/plain": [
       "Course\n",
       "Soporte Vital Avanzado                                                  2017-03-02\n",
       "Urgencias Obstétricas Extrahospitalarias                                2017-05-26\n",
       "Introducción A La Enfermería En Endoscopia Digestiva                    2017-05-31\n",
       "Antibioterapia Básica                                                   2017-06-11\n",
       "Curso Completo De Diálisis Peritoneal                                   2017-06-29\n",
       "Electrocardiografía                                                     2018-06-07\n",
       "Cuidados Paliativos                                                     2019-04-03\n",
       "Planificación Familiar                                                  2019-04-03\n",
       "Radiología Básica                                                       2019-05-16\n",
       "Introducción Al Powerpoint Para Profesionales Sanitarios                2019-05-16\n",
       "Introducción A Los Sistemas De Gestión De Imagen Médica Digital         2019-05-16\n",
       "Menopausia                                                              2019-05-23\n",
       "Hpv: Cribado Del Cáncer De Cérvix                                       2019-05-23\n",
       "Soporte Vital Básico                                                    2019-07-09\n",
       "Introducción A La Geriatría                                             2019-12-03\n",
       "Fibromialgia Y Dolor De La Actividad                                    2019-12-23\n",
       "Lactancia Materna                                                       2019-12-25\n",
       "Tdah: Trastorno Por Déficit De Atención E Hiperactividad                2020-01-14\n",
       "Actualización En Covid-19                                               2020-03-23\n",
       "Complicaciones Durante El Embarazo                                      2020-05-29\n",
       "Infecciones Relacionadas Con La Asistencia Sanitaria                    2020-05-30\n",
       "Actualización En Neonatología                                           2020-07-12\n",
       "Lesiones Deportivas                                                     2020-07-13\n",
       "Avances En Geriatría                                                    2020-09-01\n",
       "Violencia De Género                                                     2020-10-20\n",
       "Actualización En Medicina Interna                                       2020-11-10\n",
       "Nutrición En El Síndrome De Intestino Irritable                         2020-11-10\n",
       "Nutrición En La Enfermedad Inflamatoria Intestinal                      2020-11-10\n",
       "Nuevas Adicciones                                                       2020-11-11\n",
       "Valoración Geriátrica Integral                                          2021-01-21\n",
       "Evaluación Y Tratamiento De Úlceras Por Presión                         2021-03-26\n",
       "Técnicas Invasivas En Urgencias Y Emergencias                           2021-06-13\n",
       "Urgencias Oftalmológicas                                                2021-07-07\n",
       "Actualización En Incidentes Con Múltiples Víctimas Y Catástrofes        2021-07-19\n",
       "Abordaje Psicológico Y Nutricional En Los Trastornos De Alimentación    2021-08-10\n",
       "Abordaje Integral Del Paciente Con Disfagia                             2021-10-18\n",
       "Vendajes Funcionales                                                    2021-11-11\n",
       "Tecnologías De La Información En Entornos Sanitarios                    2022-01-12\n",
       "Introducción A La Investigación Sociosanitaria                          2022-01-12\n",
       "Atención Inicial Al Accidentado Pediátrico                              2022-03-08\n",
       "Manejo Integral De La Vía Aérea Difícil                                 2022-03-08\n",
       "Abordaje Del Paciente Politraumatizado En Uci                           2022-10-18\n",
       "Atención Al Paciente Politraumatizado Y Grandes Quemados                2022-12-15\n",
       "Urgencias Digestivas Y Del Sistema Urinario                             2023-05-02\n",
       "Cuidados Intensivos Respiratorios                                       2023-05-02\n",
       "Atención Integral A La Embarazada De Bajo Riesgo                        2023-07-04\n",
       "Atención Integral Del Paciente Con Diabetes Mellitus                    2023-07-14\n",
       "Atención Integral Del Paciente Con Obesidad                             2023-07-14\n",
       "Urgencias Pediátricas                                                   2023-07-14\n",
       "Urgencias Respiratorias                                                 2023-07-15\n",
       "Abordaje Del Paciente Oncológico Pediátrico                             2023-07-16\n",
       "Name: Order Date, dtype: object"
      ]
     },
     "execution_count": 5,
     "metadata": {},
     "output_type": "execute_result"
    }
   ],
   "source": [
    "primeras_fechas = data_copy.groupby('Course')['Order Date'].first()\n",
    "primeras_fechas = primeras_fechas.sort_values(ascending=True)\n",
    "print('Número de cursos:', len(primeras_fechas))\n",
    "primeras_fechas"
   ]
  },
  {
   "cell_type": "code",
   "execution_count": 6,
   "metadata": {},
   "outputs": [],
   "source": [
    "primeras_fechas.to_excel('../Primera_Fecha_Curso-Jose_Maria.xlsx')"
   ]
  }
 ],
 "metadata": {
  "kernelspec": {
   "display_name": "analyst",
   "language": "python",
   "name": "python3"
  },
  "language_info": {
   "codemirror_mode": {
    "name": "ipython",
    "version": 3
   },
   "file_extension": ".py",
   "mimetype": "text/x-python",
   "name": "python",
   "nbconvert_exporter": "python",
   "pygments_lexer": "ipython3",
   "version": "3.9.18"
  },
  "orig_nbformat": 4
 },
 "nbformat": 4,
 "nbformat_minor": 2
}
