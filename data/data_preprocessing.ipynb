{
 "cells": [
  {
   "cell_type": "code",
   "execution_count": 1,
   "metadata": {},
   "outputs": [],
   "source": [
    "import numpy as np\n",
    "import pandas as pd\n",
    "import matplotlib.pyplot as plt\n",
    "\n",
    "c_med = '#008B8B'"
   ]
  },
  {
   "cell_type": "code",
   "execution_count": 2,
   "metadata": {},
   "outputs": [
    {
     "name": "stdout",
     "output_type": "stream",
     "text": [
      "(52, 3)\n"
     ]
    },
    {
     "data": {
      "text/html": [
       "<div>\n",
       "<style scoped>\n",
       "    .dataframe tbody tr th:only-of-type {\n",
       "        vertical-align: middle;\n",
       "    }\n",
       "\n",
       "    .dataframe tbody tr th {\n",
       "        vertical-align: top;\n",
       "    }\n",
       "\n",
       "    .dataframe thead th {\n",
       "        text-align: right;\n",
       "    }\n",
       "</style>\n",
       "<table border=\"1\" class=\"dataframe\">\n",
       "  <thead>\n",
       "    <tr style=\"text-align: right;\">\n",
       "      <th></th>\n",
       "      <th>CR</th>\n",
       "      <th>H</th>\n",
       "      <th>CURSO</th>\n",
       "    </tr>\n",
       "  </thead>\n",
       "  <tbody>\n",
       "    <tr>\n",
       "      <th>0</th>\n",
       "      <td>4.6</td>\n",
       "      <td>50</td>\n",
       "      <td>Atención integral a la embarazada de bajo riesgo</td>\n",
       "    </tr>\n",
       "    <tr>\n",
       "      <th>1</th>\n",
       "      <td>8.8</td>\n",
       "      <td>70</td>\n",
       "      <td>Atención Inicial al accidentado pediátrico</td>\n",
       "    </tr>\n",
       "    <tr>\n",
       "      <th>2</th>\n",
       "      <td>4.7</td>\n",
       "      <td>35</td>\n",
       "      <td>Antibioterapia básica</td>\n",
       "    </tr>\n",
       "    <tr>\n",
       "      <th>3</th>\n",
       "      <td>7.1</td>\n",
       "      <td>70</td>\n",
       "      <td>Complicaciones durante el embarazo</td>\n",
       "    </tr>\n",
       "    <tr>\n",
       "      <th>4</th>\n",
       "      <td>5.7</td>\n",
       "      <td>40</td>\n",
       "      <td>Actualización en COVID-19</td>\n",
       "    </tr>\n",
       "  </tbody>\n",
       "</table>\n",
       "</div>"
      ],
      "text/plain": [
       "    CR   H                                             CURSO\n",
       "0  4.6  50  Atención integral a la embarazada de bajo riesgo\n",
       "1  8.8  70        Atención Inicial al accidentado pediátrico\n",
       "2  4.7  35                             Antibioterapia básica\n",
       "3  7.1  70                Complicaciones durante el embarazo\n",
       "4  5.7  40                         Actualización en COVID-19"
      ]
     },
     "execution_count": 2,
     "metadata": {},
     "output_type": "execute_result"
    }
   ],
   "source": [
    "excel_cfc = pd.read_excel('./excel/copia_Cursos CFC.xlsx', index_col=0)\n",
    "print(excel_cfc.shape)\n",
    "excel_cfc.head()"
   ]
  },
  {
   "cell_type": "code",
   "execution_count": 3,
   "metadata": {},
   "outputs": [
    {
     "name": "stdout",
     "output_type": "stream",
     "text": [
      "(490328, 6)\n"
     ]
    },
    {
     "data": {
      "text/html": [
       "<div>\n",
       "<style scoped>\n",
       "    .dataframe tbody tr th:only-of-type {\n",
       "        vertical-align: middle;\n",
       "    }\n",
       "\n",
       "    .dataframe tbody tr th {\n",
       "        vertical-align: top;\n",
       "    }\n",
       "\n",
       "    .dataframe thead th {\n",
       "        text-align: right;\n",
       "    }\n",
       "</style>\n",
       "<table border=\"1\" class=\"dataframe\">\n",
       "  <thead>\n",
       "    <tr style=\"text-align: right;\">\n",
       "      <th></th>\n",
       "      <th>Order ID</th>\n",
       "      <th>Order Date</th>\n",
       "      <th>Current Value</th>\n",
       "      <th>Product</th>\n",
       "      <th>Coupon Code</th>\n",
       "      <th>User ID</th>\n",
       "    </tr>\n",
       "  </thead>\n",
       "  <tbody>\n",
       "    <tr>\n",
       "      <th>0</th>\n",
       "      <td>401649</td>\n",
       "      <td>2017-06-28</td>\n",
       "      <td>19.0</td>\n",
       "      <td>Antibioterapia Básica para Médicos</td>\n",
       "      <td>ofer19stx</td>\n",
       "      <td>1593954</td>\n",
       "    </tr>\n",
       "    <tr>\n",
       "      <th>1</th>\n",
       "      <td>401641</td>\n",
       "      <td>2017-06-28</td>\n",
       "      <td>19.0</td>\n",
       "      <td>Antibioterapia Básica para TCAEs</td>\n",
       "      <td>ofer19stx</td>\n",
       "      <td>1880812</td>\n",
       "    </tr>\n",
       "    <tr>\n",
       "      <th>2</th>\n",
       "      <td>401632</td>\n",
       "      <td>2017-06-28</td>\n",
       "      <td>19.0</td>\n",
       "      <td>Antibioterapia Básica para Médicos</td>\n",
       "      <td>ofer19stx</td>\n",
       "      <td>1880759</td>\n",
       "    </tr>\n",
       "    <tr>\n",
       "      <th>3</th>\n",
       "      <td>401631</td>\n",
       "      <td>2017-06-28</td>\n",
       "      <td>19.0</td>\n",
       "      <td>Antibioterapia Básica para Médicos</td>\n",
       "      <td>ofer19stx</td>\n",
       "      <td>1872887</td>\n",
       "    </tr>\n",
       "    <tr>\n",
       "      <th>4</th>\n",
       "      <td>401588</td>\n",
       "      <td>2017-06-28</td>\n",
       "      <td>19.0</td>\n",
       "      <td>Antibioterapia Básica para TCAEs</td>\n",
       "      <td>ofer19stx</td>\n",
       "      <td>1880574</td>\n",
       "    </tr>\n",
       "  </tbody>\n",
       "</table>\n",
       "</div>"
      ],
      "text/plain": [
       "   Order ID Order Date  Current Value                             Product  \\\n",
       "0    401649 2017-06-28           19.0  Antibioterapia Básica para Médicos   \n",
       "1    401641 2017-06-28           19.0    Antibioterapia Básica para TCAEs   \n",
       "2    401632 2017-06-28           19.0  Antibioterapia Básica para Médicos   \n",
       "3    401631 2017-06-28           19.0  Antibioterapia Básica para Médicos   \n",
       "4    401588 2017-06-28           19.0    Antibioterapia Básica para TCAEs   \n",
       "\n",
       "  Coupon Code  User ID  \n",
       "0   ofer19stx  1593954  \n",
       "1   ofer19stx  1880812  \n",
       "2   ofer19stx  1880759  \n",
       "3   ofer19stx  1872887  \n",
       "4   ofer19stx  1880574  "
      ]
     },
     "execution_count": 3,
     "metadata": {},
     "output_type": "execute_result"
    }
   ],
   "source": [
    "excel_raw = pd.read_excel('./excel/copia_pedidos.xlsx', parse_dates=['Order Date'])\n",
    "print(excel_raw.shape)\n",
    "excel_raw.head()"
   ]
  },
  {
   "cell_type": "markdown",
   "metadata": {},
   "source": [
    "<div style = 'color:gold'>\n",
    "\n",
    "<br>\n",
    "\n",
    "# Descripción de las columnas\n",
    "\n",
    "</div>\n",
    "\n",
    "### Archivo Cursos CFC\n",
    "- **CR** = Créditos que tiene el curso.\n",
    "- **H** = Horas de duración del curso.\n",
    "- **CURSO** = Nombre completo del curso.\n",
    "\n"
   ]
  },
  {
   "cell_type": "code",
   "execution_count": 4,
   "metadata": {},
   "outputs": [
    {
     "name": "stdout",
     "output_type": "stream",
     "text": [
      "<class 'pandas.core.frame.DataFrame'>\n",
      "Index: 52 entries, 0 to 51\n",
      "Data columns (total 3 columns):\n",
      " #   Column  Non-Null Count  Dtype  \n",
      "---  ------  --------------  -----  \n",
      " 0   CR      52 non-null     float64\n",
      " 1   H       52 non-null     int64  \n",
      " 2   CURSO   52 non-null     object \n",
      "dtypes: float64(1), int64(1), object(1)\n",
      "memory usage: 1.6+ KB\n"
     ]
    }
   ],
   "source": [
    "# No hay valores nulos\n",
    "\n",
    "excel_cfc.info()"
   ]
  },
  {
   "cell_type": "code",
   "execution_count": 5,
   "metadata": {},
   "outputs": [
    {
     "data": {
      "text/html": [
       "<div>\n",
       "<style scoped>\n",
       "    .dataframe tbody tr th:only-of-type {\n",
       "        vertical-align: middle;\n",
       "    }\n",
       "\n",
       "    .dataframe tbody tr th {\n",
       "        vertical-align: top;\n",
       "    }\n",
       "\n",
       "    .dataframe thead th {\n",
       "        text-align: right;\n",
       "    }\n",
       "</style>\n",
       "<table border=\"1\" class=\"dataframe\">\n",
       "  <thead>\n",
       "    <tr style=\"text-align: right;\">\n",
       "      <th></th>\n",
       "      <th>CR</th>\n",
       "      <th>H</th>\n",
       "      <th>CURSO</th>\n",
       "    </tr>\n",
       "  </thead>\n",
       "  <tbody>\n",
       "    <tr>\n",
       "      <th>count</th>\n",
       "      <td>52</td>\n",
       "      <td>52</td>\n",
       "      <td>52</td>\n",
       "    </tr>\n",
       "    <tr>\n",
       "      <th>unique</th>\n",
       "      <td>36</td>\n",
       "      <td>10</td>\n",
       "      <td>52</td>\n",
       "    </tr>\n",
       "    <tr>\n",
       "      <th>top</th>\n",
       "      <td>3.3</td>\n",
       "      <td>25</td>\n",
       "      <td>Atención integral a la embarazada de bajo riesgo</td>\n",
       "    </tr>\n",
       "    <tr>\n",
       "      <th>freq</th>\n",
       "      <td>4</td>\n",
       "      <td>9</td>\n",
       "      <td>1</td>\n",
       "    </tr>\n",
       "  </tbody>\n",
       "</table>\n",
       "</div>"
      ],
      "text/plain": [
       "         CR   H                                             CURSO\n",
       "count    52  52                                                52\n",
       "unique   36  10                                                52\n",
       "top     3.3  25  Atención integral a la embarazada de bajo riesgo\n",
       "freq      4   9                                                 1"
      ]
     },
     "execution_count": 5,
     "metadata": {},
     "output_type": "execute_result"
    }
   ],
   "source": [
    "# No hay valores repetidos en la columna \"CURSO\" (columna con valores únicos)\n",
    "\n",
    "excel_cfc.astype(str).describe()"
   ]
  },
  {
   "cell_type": "code",
   "execution_count": 6,
   "metadata": {},
   "outputs": [
    {
     "data": {
      "text/html": [
       "<div>\n",
       "<style scoped>\n",
       "    .dataframe tbody tr th:only-of-type {\n",
       "        vertical-align: middle;\n",
       "    }\n",
       "\n",
       "    .dataframe tbody tr th {\n",
       "        vertical-align: top;\n",
       "    }\n",
       "\n",
       "    .dataframe thead th {\n",
       "        text-align: right;\n",
       "    }\n",
       "</style>\n",
       "<table border=\"1\" class=\"dataframe\">\n",
       "  <thead>\n",
       "    <tr style=\"text-align: right;\">\n",
       "      <th></th>\n",
       "      <th>CR</th>\n",
       "      <th>H</th>\n",
       "    </tr>\n",
       "  </thead>\n",
       "  <tbody>\n",
       "    <tr>\n",
       "      <th>count</th>\n",
       "      <td>52.000000</td>\n",
       "      <td>52.000000</td>\n",
       "    </tr>\n",
       "    <tr>\n",
       "      <th>mean</th>\n",
       "      <td>5.357692</td>\n",
       "      <td>41.346154</td>\n",
       "    </tr>\n",
       "    <tr>\n",
       "      <th>std</th>\n",
       "      <td>2.190026</td>\n",
       "      <td>17.408455</td>\n",
       "    </tr>\n",
       "    <tr>\n",
       "      <th>min</th>\n",
       "      <td>0.000000</td>\n",
       "      <td>0.000000</td>\n",
       "    </tr>\n",
       "    <tr>\n",
       "      <th>25%</th>\n",
       "      <td>3.475000</td>\n",
       "      <td>30.000000</td>\n",
       "    </tr>\n",
       "    <tr>\n",
       "      <th>50%</th>\n",
       "      <td>5.250000</td>\n",
       "      <td>42.500000</td>\n",
       "    </tr>\n",
       "    <tr>\n",
       "      <th>75%</th>\n",
       "      <td>7.100000</td>\n",
       "      <td>50.000000</td>\n",
       "    </tr>\n",
       "    <tr>\n",
       "      <th>max</th>\n",
       "      <td>9.100000</td>\n",
       "      <td>70.000000</td>\n",
       "    </tr>\n",
       "  </tbody>\n",
       "</table>\n",
       "</div>"
      ],
      "text/plain": [
       "              CR          H\n",
       "count  52.000000  52.000000\n",
       "mean    5.357692  41.346154\n",
       "std     2.190026  17.408455\n",
       "min     0.000000   0.000000\n",
       "25%     3.475000  30.000000\n",
       "50%     5.250000  42.500000\n",
       "75%     7.100000  50.000000\n",
       "max     9.100000  70.000000"
      ]
     },
     "execution_count": 6,
     "metadata": {},
     "output_type": "execute_result"
    }
   ],
   "source": [
    "excel_cfc.describe()"
   ]
  },
  {
   "cell_type": "markdown",
   "metadata": {},
   "source": [
    "<br>\n",
    "\n",
    "### Archivo Pedidos\n",
    "- **Order ID** = Número ID de la orden.\n",
    "- **Order Date** = Fecha en la que se produjo la orden.\n",
    "- **Current Value** = Coste de la formación en la fecha que se produjo la orden.\n",
    "- **Product** = Nombre de la formación.\n",
    "- **Coupon Code** = Cupón utilizado en la orden.\n",
    "- **User ID** = Número ID del usuario que completó la orden."
   ]
  },
  {
   "cell_type": "code",
   "execution_count": 7,
   "metadata": {},
   "outputs": [
    {
     "name": "stdout",
     "output_type": "stream",
     "text": [
      "<class 'pandas.core.frame.DataFrame'>\n",
      "RangeIndex: 490328 entries, 0 to 490327\n",
      "Data columns (total 6 columns):\n",
      " #   Column         Non-Null Count   Dtype         \n",
      "---  ------         --------------   -----         \n",
      " 0   Order ID       490328 non-null  int64         \n",
      " 1   Order Date     490328 non-null  datetime64[ns]\n",
      " 2   Current Value  490328 non-null  float64       \n",
      " 3   Product        490152 non-null  object        \n",
      " 4   Coupon Code    5027 non-null    object        \n",
      " 5   User ID        490328 non-null  int64         \n",
      "dtypes: datetime64[ns](1), float64(1), int64(2), object(2)\n",
      "memory usage: 22.4+ MB\n"
     ]
    }
   ],
   "source": [
    "# las columnas \"Product\" y \"Coupon Code\" tienen valores nulos\n",
    "\n",
    "excel_raw.info()"
   ]
  },
  {
   "cell_type": "code",
   "execution_count": 8,
   "metadata": {},
   "outputs": [
    {
     "data": {
      "text/html": [
       "<div>\n",
       "<style scoped>\n",
       "    .dataframe tbody tr th:only-of-type {\n",
       "        vertical-align: middle;\n",
       "    }\n",
       "\n",
       "    .dataframe tbody tr th {\n",
       "        vertical-align: top;\n",
       "    }\n",
       "\n",
       "    .dataframe thead th {\n",
       "        text-align: right;\n",
       "    }\n",
       "</style>\n",
       "<table border=\"1\" class=\"dataframe\">\n",
       "  <thead>\n",
       "    <tr style=\"text-align: right;\">\n",
       "      <th></th>\n",
       "      <th>Order ID</th>\n",
       "      <th>Order Date</th>\n",
       "      <th>Current Value</th>\n",
       "      <th>Product</th>\n",
       "      <th>Coupon Code</th>\n",
       "      <th>User ID</th>\n",
       "    </tr>\n",
       "  </thead>\n",
       "  <tbody>\n",
       "    <tr>\n",
       "      <th>count</th>\n",
       "      <td>490328</td>\n",
       "      <td>490328</td>\n",
       "      <td>490328</td>\n",
       "      <td>490328</td>\n",
       "      <td>490328</td>\n",
       "      <td>490328</td>\n",
       "    </tr>\n",
       "    <tr>\n",
       "      <th>unique</th>\n",
       "      <td>490328</td>\n",
       "      <td>2307</td>\n",
       "      <td>81</td>\n",
       "      <td>244</td>\n",
       "      <td>87</td>\n",
       "      <td>208688</td>\n",
       "    </tr>\n",
       "    <tr>\n",
       "      <th>top</th>\n",
       "      <td>401649</td>\n",
       "      <td>2020-03-25</td>\n",
       "      <td>0.0</td>\n",
       "      <td>HPV: Cribado del Cáncer de Cérvix</td>\n",
       "      <td>nan</td>\n",
       "      <td>10586797</td>\n",
       "    </tr>\n",
       "    <tr>\n",
       "      <th>freq</th>\n",
       "      <td>1</td>\n",
       "      <td>5807</td>\n",
       "      <td>394978</td>\n",
       "      <td>48875</td>\n",
       "      <td>485301</td>\n",
       "      <td>45</td>\n",
       "    </tr>\n",
       "  </tbody>\n",
       "</table>\n",
       "</div>"
      ],
      "text/plain": [
       "       Order ID  Order Date Current Value                             Product  \\\n",
       "count    490328      490328        490328                              490328   \n",
       "unique   490328        2307            81                                 244   \n",
       "top      401649  2020-03-25           0.0  HPV: Cribado del Cáncer de Cérvix    \n",
       "freq          1        5807        394978                               48875   \n",
       "\n",
       "       Coupon Code   User ID  \n",
       "count       490328    490328  \n",
       "unique          87    208688  \n",
       "top            nan  10586797  \n",
       "freq        485301        45  "
      ]
     },
     "execution_count": 8,
     "metadata": {},
     "output_type": "execute_result"
    }
   ],
   "source": [
    "# En el 80% de las órdenes el precio de la formación fue de 0€\n",
    "# La columna 'Order ID' sólo tiene valroes únicos\n",
    "\n",
    "excel_raw.astype(str).describe()"
   ]
  },
  {
   "cell_type": "code",
   "execution_count": 9,
   "metadata": {},
   "outputs": [
    {
     "data": {
      "text/html": [
       "<div>\n",
       "<style scoped>\n",
       "    .dataframe tbody tr th:only-of-type {\n",
       "        vertical-align: middle;\n",
       "    }\n",
       "\n",
       "    .dataframe tbody tr th {\n",
       "        vertical-align: top;\n",
       "    }\n",
       "\n",
       "    .dataframe thead th {\n",
       "        text-align: right;\n",
       "    }\n",
       "</style>\n",
       "<table border=\"1\" class=\"dataframe\">\n",
       "  <thead>\n",
       "    <tr style=\"text-align: right;\">\n",
       "      <th></th>\n",
       "      <th>Order ID</th>\n",
       "      <th>Order Date</th>\n",
       "      <th>Current Value</th>\n",
       "      <th>User ID</th>\n",
       "    </tr>\n",
       "  </thead>\n",
       "  <tbody>\n",
       "    <tr>\n",
       "      <th>count</th>\n",
       "      <td>4.903280e+05</td>\n",
       "      <td>490328</td>\n",
       "      <td>490328.000000</td>\n",
       "      <td>4.903280e+05</td>\n",
       "    </tr>\n",
       "    <tr>\n",
       "      <th>mean</th>\n",
       "      <td>2.072783e+07</td>\n",
       "      <td>2020-12-06 07:43:10.383580160</td>\n",
       "      <td>8.114763</td>\n",
       "      <td>2.694610e+07</td>\n",
       "    </tr>\n",
       "    <tr>\n",
       "      <th>min</th>\n",
       "      <td>2.609620e+05</td>\n",
       "      <td>2017-03-02 00:00:00</td>\n",
       "      <td>0.000000</td>\n",
       "      <td>2.143840e+05</td>\n",
       "    </tr>\n",
       "    <tr>\n",
       "      <th>25%</th>\n",
       "      <td>4.621948e+06</td>\n",
       "      <td>2019-11-18 00:00:00</td>\n",
       "      <td>0.000000</td>\n",
       "      <td>5.558889e+06</td>\n",
       "    </tr>\n",
       "    <tr>\n",
       "      <th>50%</th>\n",
       "      <td>1.664680e+07</td>\n",
       "      <td>2020-09-03 00:00:00</td>\n",
       "      <td>0.000000</td>\n",
       "      <td>1.330161e+07</td>\n",
       "    </tr>\n",
       "    <tr>\n",
       "      <th>75%</th>\n",
       "      <td>3.747558e+07</td>\n",
       "      <td>2022-03-01 00:00:00</td>\n",
       "      <td>0.000000</td>\n",
       "      <td>3.614251e+07</td>\n",
       "    </tr>\n",
       "    <tr>\n",
       "      <th>max</th>\n",
       "      <td>6.203539e+07</td>\n",
       "      <td>2023-09-13 00:00:00</td>\n",
       "      <td>1350.000000</td>\n",
       "      <td>1.822010e+08</td>\n",
       "    </tr>\n",
       "    <tr>\n",
       "      <th>std</th>\n",
       "      <td>1.703942e+07</td>\n",
       "      <td>NaN</td>\n",
       "      <td>23.113580</td>\n",
       "      <td>3.160810e+07</td>\n",
       "    </tr>\n",
       "  </tbody>\n",
       "</table>\n",
       "</div>"
      ],
      "text/plain": [
       "           Order ID                     Order Date  Current Value  \\\n",
       "count  4.903280e+05                         490328  490328.000000   \n",
       "mean   2.072783e+07  2020-12-06 07:43:10.383580160       8.114763   \n",
       "min    2.609620e+05            2017-03-02 00:00:00       0.000000   \n",
       "25%    4.621948e+06            2019-11-18 00:00:00       0.000000   \n",
       "50%    1.664680e+07            2020-09-03 00:00:00       0.000000   \n",
       "75%    3.747558e+07            2022-03-01 00:00:00       0.000000   \n",
       "max    6.203539e+07            2023-09-13 00:00:00    1350.000000   \n",
       "std    1.703942e+07                            NaN      23.113580   \n",
       "\n",
       "            User ID  \n",
       "count  4.903280e+05  \n",
       "mean   2.694610e+07  \n",
       "min    2.143840e+05  \n",
       "25%    5.558889e+06  \n",
       "50%    1.330161e+07  \n",
       "75%    3.614251e+07  \n",
       "max    1.822010e+08  \n",
       "std    3.160810e+07  "
      ]
     },
     "execution_count": 9,
     "metadata": {},
     "output_type": "execute_result"
    }
   ],
   "source": [
    "# La base de datos estática tiene data desde Marzo de 2017 hasta Septiembre de 2023\n",
    "# El percentil 75% re-afirma que, en la distribución de los datos, +75% tienen un valor de \"0\" en la columna \"Current Value\"\n",
    "# En la columna \"Current value\" el valor máximo es \"1.350\". ¿Es posible que alguien se gastara tal cantidad en formación online en una única orden?\n",
    "\n",
    "excel_raw.describe()"
   ]
  },
  {
   "cell_type": "markdown",
   "metadata": {},
   "source": [
    "<div style = 'color:gold'>\n",
    "\n",
    "<br>\n",
    "\n",
    "# Procesar archivo CFC\n",
    "\n",
    "</div>"
   ]
  },
  {
   "cell_type": "code",
   "execution_count": 10,
   "metadata": {},
   "outputs": [],
   "source": [
    "excel_cfc_copy = excel_cfc.copy()"
   ]
  },
  {
   "cell_type": "markdown",
   "metadata": {},
   "source": [
    "<br>\n",
    "\n",
    "### Cambiar nombre columnas"
   ]
  },
  {
   "cell_type": "code",
   "execution_count": 11,
   "metadata": {},
   "outputs": [
    {
     "data": {
      "text/plain": [
       "Index(['CR', 'H', 'Course'], dtype='object')"
      ]
     },
     "execution_count": 11,
     "metadata": {},
     "output_type": "execute_result"
    }
   ],
   "source": [
    "excel_cfc_copy = excel_cfc_copy.rename({'CURSO': 'Course'}, axis=1)\n",
    "\n",
    "excel_cfc_copy.columns"
   ]
  },
  {
   "cell_type": "markdown",
   "metadata": {},
   "source": [
    "<br>\n",
    "\n",
    "### Transformar texto"
   ]
  },
  {
   "cell_type": "code",
   "execution_count": 12,
   "metadata": {},
   "outputs": [
    {
     "name": "stdout",
     "output_type": "stream",
     "text": [
      "¿Hay valores duplicados tras la transformación?: False\n"
     ]
    },
    {
     "data": {
      "text/html": [
       "<div>\n",
       "<style scoped>\n",
       "    .dataframe tbody tr th:only-of-type {\n",
       "        vertical-align: middle;\n",
       "    }\n",
       "\n",
       "    .dataframe tbody tr th {\n",
       "        vertical-align: top;\n",
       "    }\n",
       "\n",
       "    .dataframe thead th {\n",
       "        text-align: right;\n",
       "    }\n",
       "</style>\n",
       "<table border=\"1\" class=\"dataframe\">\n",
       "  <thead>\n",
       "    <tr style=\"text-align: right;\">\n",
       "      <th></th>\n",
       "      <th>CR</th>\n",
       "      <th>H</th>\n",
       "      <th>Course</th>\n",
       "    </tr>\n",
       "  </thead>\n",
       "  <tbody>\n",
       "    <tr>\n",
       "      <th>0</th>\n",
       "      <td>4.6</td>\n",
       "      <td>50</td>\n",
       "      <td>Atención Integral A La Embarazada De Bajo Riesgo</td>\n",
       "    </tr>\n",
       "    <tr>\n",
       "      <th>1</th>\n",
       "      <td>8.8</td>\n",
       "      <td>70</td>\n",
       "      <td>Atención Inicial Al Accidentado Pediátrico</td>\n",
       "    </tr>\n",
       "    <tr>\n",
       "      <th>2</th>\n",
       "      <td>4.7</td>\n",
       "      <td>35</td>\n",
       "      <td>Antibioterapia Básica</td>\n",
       "    </tr>\n",
       "    <tr>\n",
       "      <th>3</th>\n",
       "      <td>7.1</td>\n",
       "      <td>70</td>\n",
       "      <td>Complicaciones Durante El Embarazo</td>\n",
       "    </tr>\n",
       "    <tr>\n",
       "      <th>4</th>\n",
       "      <td>5.7</td>\n",
       "      <td>40</td>\n",
       "      <td>Actualización En Covid-19</td>\n",
       "    </tr>\n",
       "  </tbody>\n",
       "</table>\n",
       "</div>"
      ],
      "text/plain": [
       "    CR   H                                            Course\n",
       "0  4.6  50  Atención Integral A La Embarazada De Bajo Riesgo\n",
       "1  8.8  70        Atención Inicial Al Accidentado Pediátrico\n",
       "2  4.7  35                             Antibioterapia Básica\n",
       "3  7.1  70                Complicaciones Durante El Embarazo\n",
       "4  5.7  40                         Actualización En Covid-19"
      ]
     },
     "execution_count": 12,
     "metadata": {},
     "output_type": "execute_result"
    }
   ],
   "source": [
    "excel_cfc_copy['Course'] = excel_cfc_copy['Course'].str.title().str.strip()\n",
    "\n",
    "print('¿Hay valores duplicados tras la transformación?:', excel_cfc_copy.duplicated().any())\n",
    "excel_cfc_copy.head()"
   ]
  },
  {
   "cell_type": "markdown",
   "metadata": {},
   "source": [
    "<br>\n",
    "\n",
    "### Añadir categorías"
   ]
  },
  {
   "cell_type": "code",
   "execution_count": 13,
   "metadata": {},
   "outputs": [
    {
     "name": "stdout",
     "output_type": "stream",
     "text": [
      "¿Cuántas cursos hay en el diccionario?: 52\n"
     ]
    }
   ],
   "source": [
    "dict_categorias = {\n",
    "    'Mujer': ['Violencia De Género', 'Complicaciones Durante El Embarazo', 'Atención Integral A La Embarazada De Bajo Riesgo', 'Menopausia', 'Lactancia Materna',\n",
    "              'Hpv: Cribado Del Cáncer De Cérvix', 'Fibromialgia Y Dolor De La Actividad'],\n",
    "    \n",
    "    'Pediatría': ['Atención Inicial Al Accidentado Pediátrico', 'Urgencias Pediátricas', 'Abordaje Del Paciente Oncológico Pediátrico', \n",
    "                  'Actualización En Neonatología', 'Planificación Familiar', 'Tdah: Trastorno Por Déficit De Atención E Hiperactividad'],\n",
    "    \n",
    "    'Digestivo': ['Nutrición En La Enfermedad Inflamatoria Intestinal', 'Nutrición En El Síndrome De Intestino Irritable', 'Atención Integral Del Paciente Con Obesidad',\n",
    "                  'Abordaje Psicológico Y Nutricional En Los Trastornos De Alimentación', 'Atención Integral Del Paciente Con Diabetes Mellitus', \n",
    "                  'Abordaje Integral Del Paciente Con Disfagia', 'Introducción A La Enfermería En Endoscopia Digestiva', 'Urgencias Digestivas Y Del Sistema Urinario'],\n",
    "    \n",
    "    'Urgencias': ['Técnicas Invasivas En Urgencias Y Emergencias', 'Urgencias Obstétricas Extrahospitalarias', 'Urgencias Oftalmológicas', 'Urgencias Respiratorias', \n",
    "                  'Cuidados Paliativos', 'Cuidados Intensivos Cardiovasculares', 'Cuidados Intensivos Respiratorios', 'Abordaje Del Paciente Politraumatizado En Uci', \n",
    "                  'Atención Al Paciente Politraumatizado Y Grandes Quemados', 'Actualización En Incidentes Con Múltiples Víctimas Y Catástrofes', \n",
    "                  'Manejo Integral De La Vía Aérea Difícil'],\n",
    "    \n",
    "    'Enfermería Básica': ['Antibioterapia Básica', 'Radiología Básica', 'Soporte Vital Básico', 'Soporte Vital Avanzado', 'Vendajes Funcionales', 'Electrocardiografía',\n",
    "                          'Evaluación Y Tratamiento De Úlceras Por Presión', 'Actualización En Covid-19', 'Lesiones Deportivas', 'Curso Completo De Diálisis Peritoneal', \n",
    "                          'Infecciones Relacionadas Con La Asistencia Sanitaria', 'Actualización En Medicina Interna', 'Nuevas Adicciones',\n",
    "                          'Introducción Al Powerpoint Para Profesionales Sanitarios', 'Introducción A Los Sistemas De Gestión De Imagen Médica Digital'],\n",
    "    \n",
    "    'Geriatría': ['Introducción A La Geriatría', 'Avances En Geriatría', 'Valoración Geriátrica Integral'],\n",
    "    \n",
    "    'Gestión': ['Tecnologías De La Información En Entornos Sanitarios', 'Introducción A La Investigación Sociosanitaria']\n",
    "}\n",
    "\n",
    "\n",
    "\n",
    "# Comprobar que se encuentran los 57 cursos\n",
    "lista_add = []\n",
    "for key, value in dict_categorias.items():\n",
    "    for n in value:\n",
    "        lista_add.append(n)\n",
    "    \n",
    "print('¿Cuántas cursos hay en el diccionario?:', len(lista_add))"
   ]
  },
  {
   "cell_type": "code",
   "execution_count": 14,
   "metadata": {},
   "outputs": [
    {
     "name": "stdout",
     "output_type": "stream",
     "text": [
      "(52, 4)\n",
      "¿Hay valores nulos en \"Category\"?: False\n"
     ]
    },
    {
     "data": {
      "text/html": [
       "<div>\n",
       "<style scoped>\n",
       "    .dataframe tbody tr th:only-of-type {\n",
       "        vertical-align: middle;\n",
       "    }\n",
       "\n",
       "    .dataframe tbody tr th {\n",
       "        vertical-align: top;\n",
       "    }\n",
       "\n",
       "    .dataframe thead th {\n",
       "        text-align: right;\n",
       "    }\n",
       "</style>\n",
       "<table border=\"1\" class=\"dataframe\">\n",
       "  <thead>\n",
       "    <tr style=\"text-align: right;\">\n",
       "      <th></th>\n",
       "      <th>CR</th>\n",
       "      <th>H</th>\n",
       "      <th>Course</th>\n",
       "      <th>Category</th>\n",
       "    </tr>\n",
       "  </thead>\n",
       "  <tbody>\n",
       "    <tr>\n",
       "      <th>0</th>\n",
       "      <td>4.6</td>\n",
       "      <td>50</td>\n",
       "      <td>Atención Integral A La Embarazada De Bajo Riesgo</td>\n",
       "      <td>Mujer</td>\n",
       "    </tr>\n",
       "    <tr>\n",
       "      <th>1</th>\n",
       "      <td>8.8</td>\n",
       "      <td>70</td>\n",
       "      <td>Atención Inicial Al Accidentado Pediátrico</td>\n",
       "      <td>Pediatría</td>\n",
       "    </tr>\n",
       "    <tr>\n",
       "      <th>2</th>\n",
       "      <td>4.7</td>\n",
       "      <td>35</td>\n",
       "      <td>Antibioterapia Básica</td>\n",
       "      <td>Enfermería Básica</td>\n",
       "    </tr>\n",
       "    <tr>\n",
       "      <th>3</th>\n",
       "      <td>7.1</td>\n",
       "      <td>70</td>\n",
       "      <td>Complicaciones Durante El Embarazo</td>\n",
       "      <td>Mujer</td>\n",
       "    </tr>\n",
       "    <tr>\n",
       "      <th>4</th>\n",
       "      <td>5.7</td>\n",
       "      <td>40</td>\n",
       "      <td>Actualización En Covid-19</td>\n",
       "      <td>Enfermería Básica</td>\n",
       "    </tr>\n",
       "  </tbody>\n",
       "</table>\n",
       "</div>"
      ],
      "text/plain": [
       "    CR   H                                            Course  \\\n",
       "0  4.6  50  Atención Integral A La Embarazada De Bajo Riesgo   \n",
       "1  8.8  70        Atención Inicial Al Accidentado Pediátrico   \n",
       "2  4.7  35                             Antibioterapia Básica   \n",
       "3  7.1  70                Complicaciones Durante El Embarazo   \n",
       "4  5.7  40                         Actualización En Covid-19   \n",
       "\n",
       "            Category  \n",
       "0              Mujer  \n",
       "1          Pediatría  \n",
       "2  Enfermería Básica  \n",
       "3              Mujer  \n",
       "4  Enfermería Básica  "
      ]
     },
     "execution_count": 14,
     "metadata": {},
     "output_type": "execute_result"
    }
   ],
   "source": [
    "excel_cfc_categories = excel_cfc_copy.copy()\n",
    "\n",
    "condition = [\n",
    "    excel_cfc_copy['Course'].isin(dict_categorias['Mujer']),\n",
    "    excel_cfc_copy['Course'].isin(dict_categorias['Pediatría']),\n",
    "    excel_cfc_copy['Course'].isin(dict_categorias['Digestivo']),\n",
    "    excel_cfc_copy['Course'].isin(dict_categorias['Urgencias']),\n",
    "    excel_cfc_copy['Course'].isin(dict_categorias['Enfermería Básica']),\n",
    "    excel_cfc_copy['Course'].isin(dict_categorias['Geriatría']),\n",
    "    excel_cfc_copy['Course'].isin(dict_categorias['Gestión']),\n",
    "]\n",
    "\n",
    "options = ['Mujer', 'Pediatría', 'Digestivo', 'Urgencias', 'Enfermería Básica', 'Geriatría', 'Gestión']\n",
    "\n",
    "excel_cfc_categories['Category'] = np.select(condition, options, default=np.nan)\n",
    "\n",
    "print(excel_cfc_categories.shape)\n",
    "print('¿Hay valores nulos en \"Category\"?:', excel_cfc_categories['Category'].isna().any())\n",
    "excel_cfc_categories.head()"
   ]
  },
  {
   "cell_type": "markdown",
   "metadata": {},
   "source": [
    "<br>\n",
    "\n",
    "### Plotear gráficos"
   ]
  },
  {
   "cell_type": "code",
   "execution_count": 47,
   "metadata": {},
   "outputs": [
    {
     "data": {
      "image/png": "[encoded data removed]",
      "text/plain": [
       "<Figure size 1200x500 with 1 Axes>"
      ]
     },
     "metadata": {},
     "output_type": "display_data"
    }
   ],
   "source": [
    "categorias = excel_cfc_categories['Category'].value_counts()\n",
    "\n",
    "categorias.plot(kind='bar', color=c_med, figsize=(12, 5))\n",
    "plt.title('Cantidad de cursos por categoría', fontsize=18, fontweight='bold', y=1.05)\n",
    "plt.ylabel('Cantidad', labelpad=15)\n",
    "plt.grid(axis='y', alpha=0.18)\n",
    "plt.xticks(rotation=45, ha='right');"
   ]
  },
  {
   "cell_type": "markdown",
   "metadata": {},
   "source": [
    "<div style = 'color:gold'>\n",
    "\n",
    "<br>\n",
    "\n",
    "# Procesar archivo Pedidos\n",
    "\n",
    "</div>"
   ]
  },
  {
   "cell_type": "code",
   "execution_count": 16,
   "metadata": {},
   "outputs": [],
   "source": [
    "excel_raw_copy = excel_raw.copy()"
   ]
  },
  {
   "cell_type": "markdown",
   "metadata": {},
   "source": [
    "<br>\n",
    "\n",
    "### Transformar texto"
   ]
  },
  {
   "cell_type": "code",
   "execution_count": 17,
   "metadata": {},
   "outputs": [
    {
     "data": {
      "text/html": [
       "<div>\n",
       "<style scoped>\n",
       "    .dataframe tbody tr th:only-of-type {\n",
       "        vertical-align: middle;\n",
       "    }\n",
       "\n",
       "    .dataframe tbody tr th {\n",
       "        vertical-align: top;\n",
       "    }\n",
       "\n",
       "    .dataframe thead th {\n",
       "        text-align: right;\n",
       "    }\n",
       "</style>\n",
       "<table border=\"1\" class=\"dataframe\">\n",
       "  <thead>\n",
       "    <tr style=\"text-align: right;\">\n",
       "      <th></th>\n",
       "      <th>Order ID</th>\n",
       "      <th>Order Date</th>\n",
       "      <th>Current Value</th>\n",
       "      <th>Product</th>\n",
       "      <th>Coupon Code</th>\n",
       "      <th>User ID</th>\n",
       "    </tr>\n",
       "  </thead>\n",
       "  <tbody>\n",
       "    <tr>\n",
       "      <th>0</th>\n",
       "      <td>401649</td>\n",
       "      <td>2017-06-28</td>\n",
       "      <td>19.0</td>\n",
       "      <td>Antibioterapia Básica Para Médicos</td>\n",
       "      <td>ofer19stx</td>\n",
       "      <td>1593954</td>\n",
       "    </tr>\n",
       "    <tr>\n",
       "      <th>1</th>\n",
       "      <td>401641</td>\n",
       "      <td>2017-06-28</td>\n",
       "      <td>19.0</td>\n",
       "      <td>Antibioterapia Básica Para Tcaes</td>\n",
       "      <td>ofer19stx</td>\n",
       "      <td>1880812</td>\n",
       "    </tr>\n",
       "    <tr>\n",
       "      <th>2</th>\n",
       "      <td>401632</td>\n",
       "      <td>2017-06-28</td>\n",
       "      <td>19.0</td>\n",
       "      <td>Antibioterapia Básica Para Médicos</td>\n",
       "      <td>ofer19stx</td>\n",
       "      <td>1880759</td>\n",
       "    </tr>\n",
       "    <tr>\n",
       "      <th>3</th>\n",
       "      <td>401631</td>\n",
       "      <td>2017-06-28</td>\n",
       "      <td>19.0</td>\n",
       "      <td>Antibioterapia Básica Para Médicos</td>\n",
       "      <td>ofer19stx</td>\n",
       "      <td>1872887</td>\n",
       "    </tr>\n",
       "    <tr>\n",
       "      <th>4</th>\n",
       "      <td>401588</td>\n",
       "      <td>2017-06-28</td>\n",
       "      <td>19.0</td>\n",
       "      <td>Antibioterapia Básica Para Tcaes</td>\n",
       "      <td>ofer19stx</td>\n",
       "      <td>1880574</td>\n",
       "    </tr>\n",
       "  </tbody>\n",
       "</table>\n",
       "</div>"
      ],
      "text/plain": [
       "   Order ID Order Date  Current Value                             Product  \\\n",
       "0    401649 2017-06-28           19.0  Antibioterapia Básica Para Médicos   \n",
       "1    401641 2017-06-28           19.0    Antibioterapia Básica Para Tcaes   \n",
       "2    401632 2017-06-28           19.0  Antibioterapia Básica Para Médicos   \n",
       "3    401631 2017-06-28           19.0  Antibioterapia Básica Para Médicos   \n",
       "4    401588 2017-06-28           19.0    Antibioterapia Básica Para Tcaes   \n",
       "\n",
       "  Coupon Code  User ID  \n",
       "0   ofer19stx  1593954  \n",
       "1   ofer19stx  1880812  \n",
       "2   ofer19stx  1880759  \n",
       "3   ofer19stx  1872887  \n",
       "4   ofer19stx  1880574  "
      ]
     },
     "execution_count": 17,
     "metadata": {},
     "output_type": "execute_result"
    }
   ],
   "source": [
    "excel_raw_copy['Product'] = excel_raw_copy['Product'].str.title().str.strip()\n",
    "\n",
    "excel_raw_copy.head()"
   ]
  },
  {
   "cell_type": "markdown",
   "metadata": {},
   "source": [
    "<br>\n",
    "\n",
    "### Eliminar filas innecesarias\n",
    "\n",
    "Eliminar la fila `Order ID` porque son valores únicos que no aportan nada de información.\n",
    "\n",
    "Eliminar, también, la columna `Coupon Code` porque no es relevante."
   ]
  },
  {
   "cell_type": "code",
   "execution_count": 18,
   "metadata": {},
   "outputs": [
    {
     "name": "stdout",
     "output_type": "stream",
     "text": [
      "Shape ANTES de dropear columnas: (490328, 6)\n",
      "Shape DESPUÉS de dropear columnas: (490328, 4)\n"
     ]
    }
   ],
   "source": [
    "excel_drop = excel_raw_copy.copy()\n",
    "\n",
    "excel_drop = excel_drop.drop(['Order ID', 'Coupon Code'], axis=1)\n",
    "\n",
    "print('Shape ANTES de dropear columnas:', excel_raw_copy.shape)\n",
    "print('Shape DESPUÉS de dropear columnas:', excel_drop.shape)"
   ]
  },
  {
   "cell_type": "markdown",
   "metadata": {},
   "source": [
    "<br>\n",
    "\n",
    "### Tratar los valores nulos\n",
    "\n",
    "Eliminar valores nulos de la columna `Product`."
   ]
  },
  {
   "cell_type": "code",
   "execution_count": 19,
   "metadata": {},
   "outputs": [
    {
     "name": "stdout",
     "output_type": "stream",
     "text": [
      "Shape ANTES de eliminar valores nulos: (490328, 4)\n",
      "Shape DESPUÉS de eliminar valores nulos: (490152, 4)\n",
      "\n",
      "<class 'pandas.core.frame.DataFrame'>\n",
      "RangeIndex: 490152 entries, 0 to 490151\n",
      "Data columns (total 4 columns):\n",
      " #   Column         Non-Null Count   Dtype         \n",
      "---  ------         --------------   -----         \n",
      " 0   Order Date     490152 non-null  datetime64[ns]\n",
      " 1   Current Value  490152 non-null  float64       \n",
      " 2   Product        490152 non-null  object        \n",
      " 3   User ID        490152 non-null  int64         \n",
      "dtypes: datetime64[ns](1), float64(1), int64(1), object(1)\n",
      "memory usage: 15.0+ MB\n"
     ]
    }
   ],
   "source": [
    "excel_na = excel_drop.copy()\n",
    "\n",
    "excel_na = excel_na[~excel_na['Product'].isna()]\n",
    "excel_na = excel_na.reset_index(drop=True)\n",
    "\n",
    "print('Shape ANTES de eliminar valores nulos:', excel_drop.shape)\n",
    "print('Shape DESPUÉS de eliminar valores nulos:', excel_na.shape, end='\\n\\n')\n",
    "\n",
    "excel_na.info()"
   ]
  },
  {
   "cell_type": "markdown",
   "metadata": {},
   "source": [
    "<br>\n",
    "\n",
    "### Observar valores en la columna `product`"
   ]
  },
  {
   "cell_type": "code",
   "execution_count": 20,
   "metadata": {},
   "outputs": [
    {
     "name": "stdout",
     "output_type": "stream",
     "text": [
      "¿Cuántos cursos hay en la columna \"Product\"?: 243\n"
     ]
    },
    {
     "data": {
      "text/plain": [
       "Index(['Abordaje Del Paciente Oncológico Pediátrico',\n",
       "       'Abordaje Del Paciente Oncológico Pediátrico - Meval',\n",
       "       'Abordaje Del Paciente Politraumatizado En Uci',\n",
       "       'Abordaje Integral Del Paciente Con Disfagia',\n",
       "       'Abordaje Psicológico Y Nutricional De Los Problemas De Alimentación'],\n",
       "      dtype='object', name='Product')"
      ]
     },
     "execution_count": 20,
     "metadata": {},
     "output_type": "execute_result"
    }
   ],
   "source": [
    "med_formaciones = excel_na.groupby('Product').size().index\n",
    "\n",
    "print('¿Cuántos cursos hay en la columna \"Product\"?:', len(med_formaciones))\n",
    "med_formaciones[:5]"
   ]
  },
  {
   "cell_type": "markdown",
   "metadata": {},
   "source": [
    "<br>\n",
    "\n",
    "Hay cursos que se encuentran repetidos, pero porque son variaciones de la formación o porque pertenecen a cursos externos a Medicarama."
   ]
  },
  {
   "cell_type": "markdown",
   "metadata": {},
   "source": [
    "<br>\n",
    "\n",
    "### Limpiar Órdenes que pertenecen a formaciones externas a Medicarama"
   ]
  },
  {
   "cell_type": "code",
   "execution_count": 21,
   "metadata": {},
   "outputs": [],
   "source": [
    "excel_row = excel_na.copy()"
   ]
  },
  {
   "cell_type": "code",
   "execution_count": 22,
   "metadata": {},
   "outputs": [
    {
     "name": "stdout",
     "output_type": "stream",
     "text": [
      "¿Qué valores de la lista se encuentran en la columna \"Product\"?\n",
      "\n",
      "Uecm: SÍ\n",
      "Universitario: SÍ\n",
      "Máster: SÍ\n",
      "Pago: SÍ\n",
      "Deleted: SÍ\n",
      "Webinar: SÍ\n",
      "Reserva: SÍ\n",
      "Tfg: SÍ\n",
      "Meval: SÍ\n"
     ]
    }
   ],
   "source": [
    "lista_eliminar = ['Uecm', 'Universitario', 'Máster', 'Pago', 'Deleted', 'Webinar', 'Reserva', 'Tfg', 'Meval']\n",
    "\n",
    "print('¿Qué valores de la lista se encuentran en la columna \"Product\"?\\n')\n",
    "for valor in lista_eliminar:\n",
    "    lista_prov = [prod for prod in med_formaciones if valor in prod]\n",
    "    if len(lista_prov) > 0:\n",
    "        print(f'{valor}: SÍ')\n",
    "    else:\n",
    "        print(f'{valor}: NO')"
   ]
  },
  {
   "cell_type": "code",
   "execution_count": 23,
   "metadata": {},
   "outputs": [
    {
     "name": "stdout",
     "output_type": "stream",
     "text": [
      "Número de formaciones que habían antes de los cambios: 243\n",
      "Número de formaciones que hay ahora: 210\n"
     ]
    }
   ],
   "source": [
    "excel_row = excel_row[~excel_row['Product'].str.contains('|'.join(lista_eliminar))]\n",
    "\n",
    "print('Número de formaciones que habían antes de los cambios:', len(med_formaciones))\n",
    "print('Número de formaciones que hay ahora:', len(excel_row['Product'].value_counts()))"
   ]
  },
  {
   "cell_type": "markdown",
   "metadata": {},
   "source": [
    "<br>\n",
    "\n",
    "### Reemplazar nombres de algunas formaciones para que coincidan al mergear ambos Excels"
   ]
  },
  {
   "cell_type": "code",
   "execution_count": 24,
   "metadata": {},
   "outputs": [],
   "source": [
    "excel_replace = excel_row.copy()"
   ]
  },
  {
   "cell_type": "code",
   "execution_count": 25,
   "metadata": {},
   "outputs": [],
   "source": [
    "dict_reemplazar = {\n",
    "    'Actualización En Pandemia Por Coronavirus': 'Actualización En Covid-19',\n",
    "    'Valoración Geriatrica Integral': 'Valoración Geriátrica Integral',\n",
    "    'Nutrición Para El Síndrome Intestino Irritable (Sii)': 'Nutrición En El Síndrome De Intestino Irritable',\n",
    "    'Nutrición Para La Enfermedad Inflamatoria Intestinal (Eii)': 'Nutrición En La Enfermedad Inflamatoria Intestinal',\n",
    "    'Fibromialgia Y Dolor Crónico': 'Fibromialgia Y Dolor De La Actividad',\n",
    "    'Fibromialgia Y Dolor Crónico Para Enfermeros/As': 'Fibromialgia Y Dolor De La Actividad Para Enfermeros/As',\n",
    "    'Fibromialgia Y Dolor Crónico Para Fisioterapeutas': 'Fibromialgia Y Dolor De La Actividad Para Fisioterapeutas',\n",
    "    'Fibromialgia Y Dolor Crónico Para Médicos': 'Fibromialgia Y Dolor De La Actividad Para Médicos',\n",
    "    'Fibromialgia Y Dolor Crónico Para Psicólogos/As': 'Fibromialgia Y Dolor De La Actividad Para Psicólogos/As',\n",
    "    'Fibromialgia Y Dolor Crónico Para Terapeutas Ocupacionales': 'Fibromialgia Y Dolor De La Actividad Para Terapeutas Ocupacionales',\n",
    "    'Fibromialgia Y Dolor Crónico Para Técnicos-Auxiliares De Farmacia Y Técnicos En Farmacia Y Parafarmacia': 'Fibromialgia Y Dolor De La Actividad Para Técnicos-Auxiliares De Farmacia Y Técnicos En Farmacia Y Parafarmacia',\n",
    "    'Neonatología Para Enfermeros/As': 'Actualización En Neonatología Para Enfermeros/As',\n",
    "    'Neonatología Para Fisioterapeutas': 'Actualización En Neonatología Para Fisioterapeutas',\n",
    "    'Neonatología Para Médicos': 'Actualización En Neonatología Para Médicos',\n",
    "    'Neonatología Para Tcaes': 'Actualización En Neonatología Para Tcaes',\n",
    "    'Neonatología Para Tes': 'Actualización En Neonatología Para Tes',\n",
    "    'Neonatología Para Técnicos Auxiliares De Farmacia': 'Actualización En Neonatología Para Técnicos Auxiliares De Farmacia',\n",
    "    'Tdah - Trastorno Por Déficit De Atención E Hiperactividad': 'Tdah: Trastorno Por Déficit De Atención E Hiperactividad',\n",
    "    'Tdah - Trastorno Por Déficit De Atención E Hiperactividad Para Enfermeros/As': 'Tdah: Trastorno Por Déficit De Atención E Hiperactividad Para Enfermeros/As',\n",
    "    'Tdah - Trastorno Por Déficit De Atención E Hiperactividad Para Médicos': 'Tdah: Trastorno Por Déficit De Atención E Hiperactividad Para Médicos',\n",
    "    'Tdah - Trastorno Por Déficit De Atención E Hiperactividad Para Psicólogos/As': 'Tdah: Trastorno Por Déficit De Atención E Hiperactividad Para Psicólogos/As',\n",
    "    'Tdah - Trastorno Por Déficit De Atención E Hiperactividad Para To': 'Tdah: Trastorno Por Déficit De Atención E Hiperactividad Para To',\n",
    "    'Tecnologías De La Información En Entorno Sanitario': 'Tecnologías De La Información En Entornos Sanitarios',\n",
    "    'Introducción Al Manejo De La Vía Aérea Difícil': 'Introducción Al Manejo Integral De La Vía Aérea Difícil',\n",
    "    'Atención Integral Al Paciente Con Diabetes Mellitus': 'Atención Integral Del Paciente Con Diabetes Mellitus',\n",
    "    'Atención Integral Al Paciente Con Obesidad': 'Atención Integral Del Paciente Con Obesidad',\n",
    "    'Actuación En Incidentes Con Múltiples Víctimas Y Catástrofes': 'Actualización En Incidentes Con Múltiples Víctimas Y Catástrofes',\n",
    "    'Abordaje Psicológico Y Nutricional De Los Problemas De Alimentación': 'Abordaje Psicológico Y Nutricional En Los Trastornos De Alimentación'\n",
    "}"
   ]
  },
  {
   "cell_type": "code",
   "execution_count": 26,
   "metadata": {},
   "outputs": [],
   "source": [
    "excel_replace['Product'] = excel_replace['Product'].replace(dict_reemplazar)"
   ]
  },
  {
   "cell_type": "markdown",
   "metadata": {},
   "source": [
    "<br>\n",
    "\n",
    "### ¿Quedan formaciones que necesiten alguna transformación?"
   ]
  },
  {
   "cell_type": "code",
   "execution_count": 27,
   "metadata": {},
   "outputs": [
    {
     "data": {
      "text/plain": [
       "Index(['Pack 2 Cursos', 'Pack 3 Cursos', 'Pack 4 Cursos', 'Pack 6 Cursos',\n",
       "       'Pack De Estudiantes - S', 'Pack De La Mujer',\n",
       "       'Pack 3 Cursos Asociaciones'],\n",
       "      dtype='object', name='Product')"
      ]
     },
     "execution_count": 27,
     "metadata": {},
     "output_type": "execute_result"
    }
   ],
   "source": [
    "listado_cursos = excel_cfc_categories.groupby('Course').size().index\n",
    "cursos = excel_replace[~excel_replace['Product'].str.contains('|'.join(listado_cursos))]\n",
    "cursos['Product'].value_counts(ascending=False).index"
   ]
  },
  {
   "cell_type": "markdown",
   "metadata": {},
   "source": [
    "Son packs de formación, por lo que añadiré una catergoría exclusivamente para estas filas llamada: `packs`"
   ]
  },
  {
   "cell_type": "code",
   "execution_count": 48,
   "metadata": {},
   "outputs": [
    {
     "data": {
      "image/png": "[encoded data removed]",
      "text/plain": [
       "<Figure size 900x500 with 1 Axes>"
      ]
     },
     "metadata": {},
     "output_type": "display_data"
    }
   ],
   "source": [
    "Productos_mas_vendidos = excel_replace['Product'].value_counts().head(5)\n",
    "\n",
    "Productos_mas_vendidos.plot(kind='bar', color=c_med, figsize=(9, 5))\n",
    "plt.title('Los 5 cursos más vendidos', fontsize=15, fontweight='bold', y=1.05)\n",
    "plt.ylabel('Número de ventas', labelpad=15)\n",
    "plt.grid(axis='y', alpha=0.18)\n",
    "plt.xticks(rotation=45, ha='right');"
   ]
  },
  {
   "cell_type": "code",
   "execution_count": 53,
   "metadata": {},
   "outputs": [
    {
     "data": {
      "image/png": "[encoded data removed]",
      "text/plain": [
       "<Figure size 900x500 with 1 Axes>"
      ]
     },
     "metadata": {},
     "output_type": "display_data"
    }
   ],
   "source": [
    "ventas_anuales = excel_replace.groupby(excel_replace['Order Date'].dt.year).size()\n",
    "\n",
    "ventas_anuales.plot(kind='bar', color=c_med, figsize=(9, 5))\n",
    "plt.title('Ventas por año', fontsize=15, fontweight='bold', y=1.05)\n",
    "plt.ylabel('Número de ventas', labelpad=15)\n",
    "plt.grid(axis='y', alpha=0.18)\n",
    "plt.xticks(rotation=45, ha='right');"
   ]
  },
  {
   "cell_type": "markdown",
   "metadata": {},
   "source": [
    "<div style = 'color:gold'>\n",
    "\n",
    "<br>\n",
    "\n",
    "# Mergear ambos archivos\n",
    "\n",
    "</div>"
   ]
  },
  {
   "cell_type": "markdown",
   "metadata": {},
   "source": [
    "<br>\n",
    "\n",
    "### Creo listas donde alamacenar los cursos y los productos y poderlos agrupar"
   ]
  },
  {
   "cell_type": "code",
   "execution_count": 28,
   "metadata": {},
   "outputs": [],
   "source": [
    "cursos = excel_cfc_categories.copy()\n",
    "productos = excel_replace.copy()"
   ]
  },
  {
   "cell_type": "code",
   "execution_count": 29,
   "metadata": {},
   "outputs": [
    {
     "name": "stdout",
     "output_type": "stream",
     "text": [
      "52\n",
      "209\n"
     ]
    }
   ],
   "source": [
    "lista_cursos = cursos['Course'].values\n",
    "lista_productos = productos.groupby('Product').size().index\n",
    "\n",
    "print(len(lista_cursos))\n",
    "print(len(lista_productos))"
   ]
  },
  {
   "cell_type": "markdown",
   "metadata": {},
   "source": [
    "<br>\n",
    "\n",
    "### Agrupo cada producto (formación) a su respectivo curso"
   ]
  },
  {
   "cell_type": "code",
   "execution_count": 30,
   "metadata": {},
   "outputs": [
    {
     "name": "stdout",
     "output_type": "stream",
     "text": [
      "Número de items (clave-valor) en el diccionario: 202\n",
      "\n",
      "Atención Integral A La Embarazada De Bajo Riesgo: Atención Integral A La Embarazada De Bajo Riesgo\n",
      "Atención Inicial Al Accidentado Pediátrico: Atención Inicial Al Accidentado Pediátrico\n",
      "Antibioterapia Básica: Antibioterapia Básica\n",
      "Antibioterapia Básica Para Enfermeros/As: Antibioterapia Básica\n",
      "Antibioterapia Básica Para Farmacéuticos/As: Antibioterapia Básica\n",
      "Antibioterapia Básica Para Fisioterapeutas: Antibioterapia Básica\n",
      "Antibioterapia Básica Para Médicos: Antibioterapia Básica\n"
     ]
    }
   ],
   "source": [
    "# Agrupo en un diccionario a qué curso pertenece cada producto\n",
    "dict_curso = {}\n",
    "\n",
    "for curso in lista_cursos:\n",
    "    for prod in lista_productos:\n",
    "        if curso in prod:\n",
    "            dict_curso[prod] = curso\n",
    "print('Número de items (clave-valor) en el diccionario:', len(dict_curso.items()), end='\\n\\n')   \n",
    "\n",
    "# Muestro por pantalla cómo quedan los primeros cinco clave-valor del diccionario\n",
    "for i, (key, value) in enumerate(dict_curso.items()):\n",
    "    print(f'{key}: {value}')\n",
    "    if i > 5:\n",
    "        break"
   ]
  },
  {
   "cell_type": "markdown",
   "metadata": {},
   "source": [
    "<br>\n",
    "\n",
    "### Creo un dataframe provisional del diccinario anterior antes del merge"
   ]
  },
  {
   "cell_type": "code",
   "execution_count": 31,
   "metadata": {},
   "outputs": [
    {
     "name": "stdout",
     "output_type": "stream",
     "text": [
      "Número de filas del dataframe: 202\n"
     ]
    },
    {
     "data": {
      "text/html": [
       "<div>\n",
       "<style scoped>\n",
       "    .dataframe tbody tr th:only-of-type {\n",
       "        vertical-align: middle;\n",
       "    }\n",
       "\n",
       "    .dataframe tbody tr th {\n",
       "        vertical-align: top;\n",
       "    }\n",
       "\n",
       "    .dataframe thead th {\n",
       "        text-align: right;\n",
       "    }\n",
       "</style>\n",
       "<table border=\"1\" class=\"dataframe\">\n",
       "  <thead>\n",
       "    <tr style=\"text-align: right;\">\n",
       "      <th></th>\n",
       "      <th>Reference</th>\n",
       "      <th>Course</th>\n",
       "    </tr>\n",
       "  </thead>\n",
       "  <tbody>\n",
       "    <tr>\n",
       "      <th>0</th>\n",
       "      <td>Atención Integral A La Embarazada De Bajo Riesgo</td>\n",
       "      <td>Atención Integral A La Embarazada De Bajo Riesgo</td>\n",
       "    </tr>\n",
       "    <tr>\n",
       "      <th>1</th>\n",
       "      <td>Atención Inicial Al Accidentado Pediátrico</td>\n",
       "      <td>Atención Inicial Al Accidentado Pediátrico</td>\n",
       "    </tr>\n",
       "    <tr>\n",
       "      <th>2</th>\n",
       "      <td>Antibioterapia Básica</td>\n",
       "      <td>Antibioterapia Básica</td>\n",
       "    </tr>\n",
       "    <tr>\n",
       "      <th>3</th>\n",
       "      <td>Antibioterapia Básica Para Enfermeros/As</td>\n",
       "      <td>Antibioterapia Básica</td>\n",
       "    </tr>\n",
       "    <tr>\n",
       "      <th>4</th>\n",
       "      <td>Antibioterapia Básica Para Farmacéuticos/As</td>\n",
       "      <td>Antibioterapia Básica</td>\n",
       "    </tr>\n",
       "  </tbody>\n",
       "</table>\n",
       "</div>"
      ],
      "text/plain": [
       "                                          Reference  \\\n",
       "0  Atención Integral A La Embarazada De Bajo Riesgo   \n",
       "1        Atención Inicial Al Accidentado Pediátrico   \n",
       "2                             Antibioterapia Básica   \n",
       "3          Antibioterapia Básica Para Enfermeros/As   \n",
       "4       Antibioterapia Básica Para Farmacéuticos/As   \n",
       "\n",
       "                                             Course  \n",
       "0  Atención Integral A La Embarazada De Bajo Riesgo  \n",
       "1        Atención Inicial Al Accidentado Pediátrico  \n",
       "2                             Antibioterapia Básica  \n",
       "3                             Antibioterapia Básica  \n",
       "4                             Antibioterapia Básica  "
      ]
     },
     "execution_count": 31,
     "metadata": {},
     "output_type": "execute_result"
    }
   ],
   "source": [
    "df_prov = pd.DataFrame({key:[value] for key, value in dict_curso.items()})\n",
    "df_prov = df_prov.T.reset_index()\n",
    "df_prov = df_prov.rename({'index': 'Reference', 0: 'Course'}, axis=1)\n",
    "\n",
    "print('Número de filas del dataframe:', len(df_prov))\n",
    "df_prov.head()"
   ]
  },
  {
   "cell_type": "markdown",
   "metadata": {},
   "source": [
    "<br>\n",
    "\n",
    "### Mergear ambos dataframes: \"productos\" & \"df_prov\""
   ]
  },
  {
   "cell_type": "code",
   "execution_count": 32,
   "metadata": {},
   "outputs": [
    {
     "name": "stdout",
     "output_type": "stream",
     "text": [
      "(489759, 8)\n"
     ]
    },
    {
     "data": {
      "text/html": [
       "<div>\n",
       "<style scoped>\n",
       "    .dataframe tbody tr th:only-of-type {\n",
       "        vertical-align: middle;\n",
       "    }\n",
       "\n",
       "    .dataframe tbody tr th {\n",
       "        vertical-align: top;\n",
       "    }\n",
       "\n",
       "    .dataframe thead th {\n",
       "        text-align: right;\n",
       "    }\n",
       "</style>\n",
       "<table border=\"1\" class=\"dataframe\">\n",
       "  <thead>\n",
       "    <tr style=\"text-align: right;\">\n",
       "      <th></th>\n",
       "      <th>User ID</th>\n",
       "      <th>Order Date</th>\n",
       "      <th>Current Value</th>\n",
       "      <th>Product</th>\n",
       "      <th>Course</th>\n",
       "      <th>CR</th>\n",
       "      <th>H</th>\n",
       "      <th>Category</th>\n",
       "    </tr>\n",
       "  </thead>\n",
       "  <tbody>\n",
       "    <tr>\n",
       "      <th>0</th>\n",
       "      <td>1150817</td>\n",
       "      <td>2017-03-02</td>\n",
       "      <td>5.0</td>\n",
       "      <td>Soporte Vital Avanzado (En Proceso De Sustituc...</td>\n",
       "      <td>Soporte Vital Avanzado</td>\n",
       "      <td>9.0</td>\n",
       "      <td>70.0</td>\n",
       "      <td>Enfermería Básica</td>\n",
       "    </tr>\n",
       "    <tr>\n",
       "      <th>1</th>\n",
       "      <td>1255116</td>\n",
       "      <td>2017-03-22</td>\n",
       "      <td>0.0</td>\n",
       "      <td>Soporte Vital Avanzado (En Proceso De Sustituc...</td>\n",
       "      <td>Soporte Vital Avanzado</td>\n",
       "      <td>9.0</td>\n",
       "      <td>70.0</td>\n",
       "      <td>Enfermería Básica</td>\n",
       "    </tr>\n",
       "    <tr>\n",
       "      <th>2</th>\n",
       "      <td>1280376</td>\n",
       "      <td>2017-03-27</td>\n",
       "      <td>5.0</td>\n",
       "      <td>Soporte Vital Avanzado (En Proceso De Sustituc...</td>\n",
       "      <td>Soporte Vital Avanzado</td>\n",
       "      <td>9.0</td>\n",
       "      <td>70.0</td>\n",
       "      <td>Enfermería Básica</td>\n",
       "    </tr>\n",
       "    <tr>\n",
       "      <th>3</th>\n",
       "      <td>1282143</td>\n",
       "      <td>2017-03-27</td>\n",
       "      <td>5.0</td>\n",
       "      <td>Soporte Vital Avanzado (En Proceso De Sustituc...</td>\n",
       "      <td>Soporte Vital Avanzado</td>\n",
       "      <td>9.0</td>\n",
       "      <td>70.0</td>\n",
       "      <td>Enfermería Básica</td>\n",
       "    </tr>\n",
       "    <tr>\n",
       "      <th>4</th>\n",
       "      <td>1282191</td>\n",
       "      <td>2017-03-27</td>\n",
       "      <td>5.0</td>\n",
       "      <td>Soporte Vital Avanzado (En Proceso De Sustituc...</td>\n",
       "      <td>Soporte Vital Avanzado</td>\n",
       "      <td>9.0</td>\n",
       "      <td>70.0</td>\n",
       "      <td>Enfermería Básica</td>\n",
       "    </tr>\n",
       "  </tbody>\n",
       "</table>\n",
       "</div>"
      ],
      "text/plain": [
       "   User ID Order Date  Current Value  \\\n",
       "0  1150817 2017-03-02            5.0   \n",
       "1  1255116 2017-03-22            0.0   \n",
       "2  1280376 2017-03-27            5.0   \n",
       "3  1282143 2017-03-27            5.0   \n",
       "4  1282191 2017-03-27            5.0   \n",
       "\n",
       "                                             Product                  Course  \\\n",
       "0  Soporte Vital Avanzado (En Proceso De Sustituc...  Soporte Vital Avanzado   \n",
       "1  Soporte Vital Avanzado (En Proceso De Sustituc...  Soporte Vital Avanzado   \n",
       "2  Soporte Vital Avanzado (En Proceso De Sustituc...  Soporte Vital Avanzado   \n",
       "3  Soporte Vital Avanzado (En Proceso De Sustituc...  Soporte Vital Avanzado   \n",
       "4  Soporte Vital Avanzado (En Proceso De Sustituc...  Soporte Vital Avanzado   \n",
       "\n",
       "    CR     H           Category  \n",
       "0  9.0  70.0  Enfermería Básica  \n",
       "1  9.0  70.0  Enfermería Básica  \n",
       "2  9.0  70.0  Enfermería Básica  \n",
       "3  9.0  70.0  Enfermería Básica  \n",
       "4  9.0  70.0  Enfermería Básica  "
      ]
     },
     "execution_count": 32,
     "metadata": {},
     "output_type": "execute_result"
    }
   ],
   "source": [
    "# Mergear la columna cursos\n",
    "merge = productos.merge(right=df_prov, left_on='Product', right_on='Reference', how='left')\n",
    "merge = merge.drop('Reference', axis=1)\n",
    "\n",
    "# Mergear la columna categorías\n",
    "merge = merge.merge(right=cursos, on='Course', how='left')\n",
    "\n",
    "user = merge.pop('User ID')\n",
    "merge.insert(0, 'User ID', user)\n",
    "merge = merge.sort_values(by='Order Date', ascending=True)\n",
    "merge = merge.reset_index(drop=True)\n",
    "\n",
    "print(merge.shape)\n",
    "merge.head()"
   ]
  },
  {
   "cell_type": "code",
   "execution_count": 33,
   "metadata": {},
   "outputs": [
    {
     "name": "stdout",
     "output_type": "stream",
     "text": [
      "<class 'pandas.core.frame.DataFrame'>\n",
      "RangeIndex: 489759 entries, 0 to 489758\n",
      "Data columns (total 8 columns):\n",
      " #   Column         Non-Null Count   Dtype         \n",
      "---  ------         --------------   -----         \n",
      " 0   User ID        489759 non-null  int64         \n",
      " 1   Order Date     489759 non-null  datetime64[ns]\n",
      " 2   Current Value  489759 non-null  float64       \n",
      " 3   Product        489759 non-null  object        \n",
      " 4   Course         466327 non-null  object        \n",
      " 5   CR             466327 non-null  float64       \n",
      " 6   H              466327 non-null  float64       \n",
      " 7   Category       466327 non-null  object        \n",
      "dtypes: datetime64[ns](1), float64(3), int64(1), object(3)\n",
      "memory usage: 29.9+ MB\n"
     ]
    }
   ],
   "source": [
    "# La columna \"Course\" tiene valores nulos\n",
    "\n",
    "merge.info()"
   ]
  },
  {
   "cell_type": "code",
   "execution_count": 34,
   "metadata": {},
   "outputs": [
    {
     "name": "stdout",
     "output_type": "stream",
     "text": [
      "Estos son los productos que no tienen valores en la columna \"Course\":\n",
      "\n",
      "Pack 4 Cursos\n",
      "Pack 3 Cursos\n",
      "Pack 2 Cursos\n",
      "Pack 3 Cursos Asociaciones\n",
      "Pack 6 Cursos\n",
      "Pack De La Mujer\n",
      "Pack De Estudiantes - S\n"
     ]
    }
   ],
   "source": [
    "productos_sin_curso = merge[merge['Course'].isna()]['Product'].unique()\n",
    "\n",
    "print('Estos son los productos que no tienen valores en la columna \"Course\":', end='\\n\\n')\n",
    "for producto in productos_sin_curso:\n",
    "    print(producto)"
   ]
  },
  {
   "cell_type": "markdown",
   "metadata": {},
   "source": [
    "<br>\n",
    "\n",
    "### Rellenar los valores de \"Pack\""
   ]
  },
  {
   "cell_type": "code",
   "execution_count": 35,
   "metadata": {},
   "outputs": [
    {
     "name": "stdout",
     "output_type": "stream",
     "text": [
      "<class 'pandas.core.frame.DataFrame'>\n",
      "RangeIndex: 489759 entries, 0 to 489758\n",
      "Data columns (total 8 columns):\n",
      " #   Column         Non-Null Count   Dtype         \n",
      "---  ------         --------------   -----         \n",
      " 0   User ID        489759 non-null  int64         \n",
      " 1   Order Date     489759 non-null  datetime64[ns]\n",
      " 2   Current Value  489759 non-null  float64       \n",
      " 3   Product        489759 non-null  object        \n",
      " 4   Course         489759 non-null  object        \n",
      " 5   CR             489759 non-null  float64       \n",
      " 6   H              489759 non-null  float64       \n",
      " 7   Category       489759 non-null  object        \n",
      "dtypes: datetime64[ns](1), float64(3), int64(1), object(3)\n",
      "memory usage: 29.9+ MB\n"
     ]
    }
   ],
   "source": [
    "merge_pack = merge.copy()\n",
    "\n",
    "# Rellenar los valores de \"Pack\" donde hayan valores nulos en la columna \"Course\"\n",
    "merge_pack['Course'] = np.where(merge_pack['Course'].isna(), 'Pack', merge_pack['Course'])\n",
    "merge_pack['CR'] = np.where(merge_pack['CR'].isna(), 0, merge_pack['CR'])\n",
    "merge_pack['H'] = np.where(merge_pack['H'].isna(), 0, merge_pack['H'])\n",
    "merge_pack['Category'] = np.where(merge_pack['Category'].isna(), 'Pack', merge_pack['Category'])\n",
    "\n",
    "merge_pack.info()"
   ]
  },
  {
   "cell_type": "code",
   "execution_count": 36,
   "metadata": {},
   "outputs": [
    {
     "name": "stdout",
     "output_type": "stream",
     "text": [
      "Número de cursos en la columna \"Course\": 52\n"
     ]
    }
   ],
   "source": [
    "print('Número de cursos en la columna \"Course\":', len(merge_pack['Course'].unique()))"
   ]
  },
  {
   "cell_type": "markdown",
   "metadata": {},
   "source": [
    "<br>\n",
    "\n",
    "### Ordenar las columnas del dataset"
   ]
  },
  {
   "cell_type": "code",
   "execution_count": 57,
   "metadata": {},
   "outputs": [],
   "source": [
    "merge_reorder = merge_pack.copy()"
   ]
  },
  {
   "cell_type": "code",
   "execution_count": 58,
   "metadata": {},
   "outputs": [
    {
     "data": {
      "text/html": [
       "<div>\n",
       "<style scoped>\n",
       "    .dataframe tbody tr th:only-of-type {\n",
       "        vertical-align: middle;\n",
       "    }\n",
       "\n",
       "    .dataframe tbody tr th {\n",
       "        vertical-align: top;\n",
       "    }\n",
       "\n",
       "    .dataframe thead th {\n",
       "        text-align: right;\n",
       "    }\n",
       "</style>\n",
       "<table border=\"1\" class=\"dataframe\">\n",
       "  <thead>\n",
       "    <tr style=\"text-align: right;\">\n",
       "      <th></th>\n",
       "      <th>User ID</th>\n",
       "      <th>Order Date</th>\n",
       "      <th>Product</th>\n",
       "      <th>Course</th>\n",
       "      <th>Category</th>\n",
       "      <th>CR</th>\n",
       "      <th>H</th>\n",
       "      <th>Current Value</th>\n",
       "    </tr>\n",
       "  </thead>\n",
       "  <tbody>\n",
       "    <tr>\n",
       "      <th>0</th>\n",
       "      <td>1150817</td>\n",
       "      <td>2017-03-02</td>\n",
       "      <td>Soporte Vital Avanzado (En Proceso De Sustituc...</td>\n",
       "      <td>Soporte Vital Avanzado</td>\n",
       "      <td>Enfermería Básica</td>\n",
       "      <td>9.0</td>\n",
       "      <td>70.0</td>\n",
       "      <td>5.0</td>\n",
       "    </tr>\n",
       "    <tr>\n",
       "      <th>1</th>\n",
       "      <td>1255116</td>\n",
       "      <td>2017-03-22</td>\n",
       "      <td>Soporte Vital Avanzado (En Proceso De Sustituc...</td>\n",
       "      <td>Soporte Vital Avanzado</td>\n",
       "      <td>Enfermería Básica</td>\n",
       "      <td>9.0</td>\n",
       "      <td>70.0</td>\n",
       "      <td>0.0</td>\n",
       "    </tr>\n",
       "    <tr>\n",
       "      <th>2</th>\n",
       "      <td>1280376</td>\n",
       "      <td>2017-03-27</td>\n",
       "      <td>Soporte Vital Avanzado (En Proceso De Sustituc...</td>\n",
       "      <td>Soporte Vital Avanzado</td>\n",
       "      <td>Enfermería Básica</td>\n",
       "      <td>9.0</td>\n",
       "      <td>70.0</td>\n",
       "      <td>5.0</td>\n",
       "    </tr>\n",
       "    <tr>\n",
       "      <th>3</th>\n",
       "      <td>1282143</td>\n",
       "      <td>2017-03-27</td>\n",
       "      <td>Soporte Vital Avanzado (En Proceso De Sustituc...</td>\n",
       "      <td>Soporte Vital Avanzado</td>\n",
       "      <td>Enfermería Básica</td>\n",
       "      <td>9.0</td>\n",
       "      <td>70.0</td>\n",
       "      <td>5.0</td>\n",
       "    </tr>\n",
       "    <tr>\n",
       "      <th>4</th>\n",
       "      <td>1282191</td>\n",
       "      <td>2017-03-27</td>\n",
       "      <td>Soporte Vital Avanzado (En Proceso De Sustituc...</td>\n",
       "      <td>Soporte Vital Avanzado</td>\n",
       "      <td>Enfermería Básica</td>\n",
       "      <td>9.0</td>\n",
       "      <td>70.0</td>\n",
       "      <td>5.0</td>\n",
       "    </tr>\n",
       "  </tbody>\n",
       "</table>\n",
       "</div>"
      ],
      "text/plain": [
       "   User ID Order Date                                            Product  \\\n",
       "0  1150817 2017-03-02  Soporte Vital Avanzado (En Proceso De Sustituc...   \n",
       "1  1255116 2017-03-22  Soporte Vital Avanzado (En Proceso De Sustituc...   \n",
       "2  1280376 2017-03-27  Soporte Vital Avanzado (En Proceso De Sustituc...   \n",
       "3  1282143 2017-03-27  Soporte Vital Avanzado (En Proceso De Sustituc...   \n",
       "4  1282191 2017-03-27  Soporte Vital Avanzado (En Proceso De Sustituc...   \n",
       "\n",
       "                   Course           Category   CR     H  Current Value  \n",
       "0  Soporte Vital Avanzado  Enfermería Básica  9.0  70.0            5.0  \n",
       "1  Soporte Vital Avanzado  Enfermería Básica  9.0  70.0            0.0  \n",
       "2  Soporte Vital Avanzado  Enfermería Básica  9.0  70.0            5.0  \n",
       "3  Soporte Vital Avanzado  Enfermería Básica  9.0  70.0            5.0  \n",
       "4  Soporte Vital Avanzado  Enfermería Básica  9.0  70.0            5.0  "
      ]
     },
     "execution_count": 58,
     "metadata": {},
     "output_type": "execute_result"
    }
   ],
   "source": [
    "# Guardo la columna en una variable\n",
    "cv = merge_reorder.pop('Current Value')\n",
    "cat = merge_reorder.pop('Category')\n",
    "\n",
    "# Guardo la posición de la columna de referencia\n",
    "loc_course = merge_reorder.columns.get_loc('Course')\n",
    "\n",
    "# Reordeno las columnas\n",
    "merge_reorder.insert(loc_course +1, 'Category', cat)\n",
    "merge_reorder['Current Value'] = cv\n",
    "\n",
    "merge_reorder.head()"
   ]
  },
  {
   "cell_type": "markdown",
   "metadata": {},
   "source": [
    "<br>\n",
    "\n",
    "# Guardar como CSV"
   ]
  },
  {
   "cell_type": "code",
   "execution_count": 59,
   "metadata": {},
   "outputs": [],
   "source": [
    "merge_reorder.to_csv('./preprocessed/preprocessed_data.csv')"
   ]
  },
  {
   "cell_type": "code",
   "execution_count": null,
   "metadata": {},
   "outputs": [],
   "source": []
  }
 ],
 "metadata": {
  "kernelspec": {
   "display_name": "analyst",
   "language": "python",
   "name": "python3"
  },
  "language_info": {
   "codemirror_mode": {
    "name": "ipython",
    "version": 3
   },
   "file_extension": ".py",
   "mimetype": "text/x-python",
   "name": "python",
   "nbconvert_exporter": "python",
   "pygments_lexer": "ipython3",
   "version": "3.9.18"
  },
  "orig_nbformat": 4
 },
 "nbformat": 4,
 "nbformat_minor": 2
}
